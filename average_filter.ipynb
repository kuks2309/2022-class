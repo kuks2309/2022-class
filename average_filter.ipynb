{
  "cells": [
    {
      "cell_type": "markdown",
      "metadata": {
        "id": "view-in-github",
        "colab_type": "text"
      },
      "source": [
        "<a href=\"https://colab.research.google.com/github/kuks2309/2022-class/blob/main/average_filter.ipynb\" target=\"_parent\"><img src=\"https://colab.research.google.com/assets/colab-badge.svg\" alt=\"Open In Colab\"/></a>"
      ]
    },
    {
      "cell_type": "code",
      "execution_count": null,
      "metadata": {
        "id": "L03KNQEHzB7_"
      },
      "outputs": [],
      "source": [
        "import numpy as np\n",
        "import matplotlib.pyplot as plt\n",
        "\n",
        "np.random.seed(0)"
      ]
    },
    {
      "cell_type": "code",
      "execution_count": null,
      "metadata": {
        "id": "x8UHA6q3zB8I"
      },
      "outputs": [],
      "source": [
        "def get_volt():\n",
        "    \"\"\"Measure voltage.\"\"\"\n",
        "    v = np.random.normal(0, 4)  # v: measurement noise.\n",
        "    volt_mean = 14.4            # volt_mean: mean (nominal) voltage [V].\n",
        "    volt_meas = volt_mean + v   # volt_meas: measured voltage [V] (observable).\n",
        "    return volt_meas"
      ]
    },
    {
      "cell_type": "code",
      "execution_count": null,
      "metadata": {
        "id": "70WYIRfOzB8J"
      },
      "outputs": [],
      "source": [
        "def avg_filter(k, x_meas, x_avg):\n",
        "    \"\"\"Calculate average voltage using a average filter.\"\"\"\n",
        "    alpha = (k - 1) / k\n",
        "    x_avg = alpha * x_avg + (1 - alpha) * x_meas\n",
        "    return x_avg"
      ]
    },
    {
      "cell_type": "code",
      "execution_count": null,
      "metadata": {
        "id": "zhHhFDyWzB8L"
      },
      "outputs": [],
      "source": [
        "# Input parameters.\n",
        "time_end = 10\n",
        "dt = 0.2"
      ]
    },
    {
      "cell_type": "code",
      "execution_count": null,
      "metadata": {
        "id": "o-OV6h7jzB8M"
      },
      "outputs": [],
      "source": [
        "time = np.arange(0, time_end, dt)\n",
        "n_samples = len(time)\n",
        "x_meas_save = np.zeros(n_samples)\n",
        "x_avg_save = np.zeros(n_samples)"
      ]
    },
    {
      "cell_type": "code",
      "execution_count": null,
      "metadata": {
        "id": "pdu1JsvdzB8N"
      },
      "outputs": [],
      "source": [
        "x_avg = 0\n",
        "for i in range(n_samples):\n",
        "    k = i + 1\n",
        "    x_meas = get_volt()\n",
        "    x_avg = avg_filter(k, x_meas, x_avg)\n",
        "\n",
        "    x_meas_save[i] = x_meas\n",
        "    x_avg_save[i] = x_avg"
      ]
    },
    {
      "cell_type": "code",
      "execution_count": null,
      "metadata": {
        "colab": {
          "base_uri": "https://localhost:8080/",
          "height": 314
        },
        "id": "UbEzZgVIzB8O",
        "outputId": "b7d699df-df53-4eeb-9a46-de7ee9ece050"
      },
      "outputs": [
        {
          "output_type": "execute_result",
          "data": {
            "text/plain": [
              "Text(0, 0.5, 'Volt [V]')"
            ]
          },
          "metadata": {},
          "execution_count": 13
        },
        {
          "output_type": "display_data",
          "data": {
            "text/plain": [
              "<Figure size 432x288 with 1 Axes>"
            ],
            "image/png": "[encoded data removed]"
          },
          "metadata": {
            "needs_background": "light"
          }
        }
      ],
      "source": [
        "plt.plot(time, x_meas_save, 'r*', label='Measured')\n",
        "plt.plot(time, x_avg_save, 'b-', label='Average')\n",
        "plt.legend(loc='upper left')\n",
        "plt.title('Measured Voltages v.s. Average Filter Values')\n",
        "plt.axis((0,10 ,0,40))\n",
        "plt.xlabel('Time [sec]')\n",
        "plt.ylabel('Volt [V]')\n",
        "#plt.savefig('png/average_filter.png')"
      ]
    }
  ],
  "metadata": {
    "kernelspec": {
      "display_name": "Python 3",
      "language": "python",
      "name": "python3"
    },
    "language_info": {
      "codemirror_mode": {
        "name": "ipython",
        "version": 3
      },
      "file_extension": ".py",
      "mimetype": "text/x-python",
      "name": "python",
      "nbconvert_exporter": "python",
      "pygments_lexer": "ipython3",
      "version": "3.6.7"
    },
    "colab": {
      "provenance": [],
      "include_colab_link": true
    }
  },
  "nbformat": 4,
  "nbformat_minor": 0
}